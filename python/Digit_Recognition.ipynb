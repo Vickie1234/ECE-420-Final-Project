{
 "cells": [
  {
   "cell_type": "code",
   "execution_count": 6,
   "id": "96607447",
   "metadata": {},
   "outputs": [
    {
     "ename": "FileNotFoundError",
     "evalue": "[Errno 2] No such file or directory: 'C:\\\\Users\\\\vicky\\\\Desktop\\\\2023Spring\\\\ECE 420\\\\Document_Scanner/mnist_train.npy'",
     "output_type": "error",
     "traceback": [
      "\u001b[1;31m---------------------------------------------------------------------------\u001b[0m",
      "\u001b[1;31mFileNotFoundError\u001b[0m                         Traceback (most recent call last)",
      "\u001b[1;32m~\\AppData\\Local\\Temp\\ipykernel_17148\\1097992464.py\u001b[0m in \u001b[0;36m<module>\u001b[1;34m\u001b[0m\n\u001b[0;32m      6\u001b[0m \u001b[1;33m\u001b[0m\u001b[0m\n\u001b[0;32m      7\u001b[0m \u001b[1;31m# Load data\u001b[0m\u001b[1;33m\u001b[0m\u001b[1;33m\u001b[0m\u001b[0m\n\u001b[1;32m----> 8\u001b[1;33m \u001b[0mtrain\u001b[0m \u001b[1;33m=\u001b[0m \u001b[0mnp\u001b[0m\u001b[1;33m.\u001b[0m\u001b[0mload\u001b[0m\u001b[1;33m(\u001b[0m\u001b[0mos\u001b[0m\u001b[1;33m.\u001b[0m\u001b[0mgetcwd\u001b[0m\u001b[1;33m(\u001b[0m\u001b[1;33m)\u001b[0m\u001b[1;33m+\u001b[0m\u001b[1;34m'/mnist_train.npy'\u001b[0m\u001b[1;33m,\u001b[0m \u001b[0mallow_pickle\u001b[0m\u001b[1;33m=\u001b[0m\u001b[1;32mTrue\u001b[0m\u001b[1;33m)\u001b[0m\u001b[1;33m\u001b[0m\u001b[1;33m\u001b[0m\u001b[0m\n\u001b[0m\u001b[0;32m      9\u001b[0m \u001b[0mtest\u001b[0m \u001b[1;33m=\u001b[0m \u001b[0mnp\u001b[0m\u001b[1;33m.\u001b[0m\u001b[0mload\u001b[0m\u001b[1;33m(\u001b[0m\u001b[0mos\u001b[0m\u001b[1;33m.\u001b[0m\u001b[0mgetcwd\u001b[0m\u001b[1;33m(\u001b[0m\u001b[1;33m)\u001b[0m\u001b[1;33m+\u001b[0m\u001b[1;34m'/mnist_test.npy'\u001b[0m\u001b[1;33m,\u001b[0m \u001b[0mallow_pickle\u001b[0m\u001b[1;33m=\u001b[0m\u001b[1;32mTrue\u001b[0m\u001b[1;33m)\u001b[0m\u001b[1;33m\u001b[0m\u001b[1;33m\u001b[0m\u001b[0m\n\u001b[0;32m     10\u001b[0m \u001b[1;33m\u001b[0m\u001b[0m\n",
      "\u001b[1;32m~\\anaconda3\\lib\\site-packages\\numpy\\lib\\npyio.py\u001b[0m in \u001b[0;36mload\u001b[1;34m(file, mmap_mode, allow_pickle, fix_imports, encoding, max_header_size)\u001b[0m\n\u001b[0;32m    403\u001b[0m             \u001b[0mown_fid\u001b[0m \u001b[1;33m=\u001b[0m \u001b[1;32mFalse\u001b[0m\u001b[1;33m\u001b[0m\u001b[1;33m\u001b[0m\u001b[0m\n\u001b[0;32m    404\u001b[0m         \u001b[1;32melse\u001b[0m\u001b[1;33m:\u001b[0m\u001b[1;33m\u001b[0m\u001b[1;33m\u001b[0m\u001b[0m\n\u001b[1;32m--> 405\u001b[1;33m             \u001b[0mfid\u001b[0m \u001b[1;33m=\u001b[0m \u001b[0mstack\u001b[0m\u001b[1;33m.\u001b[0m\u001b[0menter_context\u001b[0m\u001b[1;33m(\u001b[0m\u001b[0mopen\u001b[0m\u001b[1;33m(\u001b[0m\u001b[0mos_fspath\u001b[0m\u001b[1;33m(\u001b[0m\u001b[0mfile\u001b[0m\u001b[1;33m)\u001b[0m\u001b[1;33m,\u001b[0m \u001b[1;34m\"rb\"\u001b[0m\u001b[1;33m)\u001b[0m\u001b[1;33m)\u001b[0m\u001b[1;33m\u001b[0m\u001b[1;33m\u001b[0m\u001b[0m\n\u001b[0m\u001b[0;32m    406\u001b[0m             \u001b[0mown_fid\u001b[0m \u001b[1;33m=\u001b[0m \u001b[1;32mTrue\u001b[0m\u001b[1;33m\u001b[0m\u001b[1;33m\u001b[0m\u001b[0m\n\u001b[0;32m    407\u001b[0m \u001b[1;33m\u001b[0m\u001b[0m\n",
      "\u001b[1;31mFileNotFoundError\u001b[0m: [Errno 2] No such file or directory: 'C:\\\\Users\\\\vicky\\\\Desktop\\\\2023Spring\\\\ECE 420\\\\Document_Scanner/mnist_train.npy'"
     ]
    }
   ],
   "source": [
    "import numpy as np\n",
    "import os\n",
    "import matplotlib.pyplot as plt\n",
    "\n",
    "image_size = 28\n",
    "\n",
    "# Load data\n",
    "train = np.load(os.getcwd()+'/mnist_train.npy', allow_pickle=True)\n",
    "test = np.load(os.getcwd()+'/mnist_test.npy', allow_pickle=True)\n",
    "\n",
    "train_data = train[()]['data']\n",
    "train_labels = train[()]['labels']\n",
    "\n",
    "test_data = test[()]['data']\n",
    "test_labels = test[()]['labels']\n",
    "\n",
    "# Print dataset dimensions\n",
    "print(train_data.shape,  test_data.shape)\n",
    "print(train_labels.shape,  test_labels.shape)\n",
    "\n",
    "# Show the 1st digit image from dataset and print its label\n",
    "plt.imshow(train_data[0].reshape(image_size, image_size), cmap='gray')\n",
    "plt.title(\"Label: \" + str(train_labels[0]))\n",
    "plt.show()"
   ]
  },
  {
   "cell_type": "code",
   "execution_count": 7,
   "id": "ed1c1013",
   "metadata": {},
   "outputs": [
    {
     "ename": "NameError",
     "evalue": "name 'train_data' is not defined",
     "output_type": "error",
     "traceback": [
      "\u001b[1;31m---------------------------------------------------------------------------\u001b[0m",
      "\u001b[1;31mNameError\u001b[0m                                 Traceback (most recent call last)",
      "\u001b[1;32m~\\AppData\\Local\\Temp\\ipykernel_17148\\1376275721.py\u001b[0m in \u001b[0;36m<module>\u001b[1;34m\u001b[0m\n\u001b[0;32m     26\u001b[0m \u001b[1;33m\u001b[0m\u001b[0m\n\u001b[0;32m     27\u001b[0m \u001b[1;31m# Add a column of ones to train_X\u001b[0m\u001b[1;33m\u001b[0m\u001b[1;33m\u001b[0m\u001b[0m\n\u001b[1;32m---> 28\u001b[1;33m \u001b[0mones\u001b[0m \u001b[1;33m=\u001b[0m \u001b[0mnp\u001b[0m\u001b[1;33m.\u001b[0m\u001b[0mones\u001b[0m\u001b[1;33m(\u001b[0m\u001b[1;33m(\u001b[0m\u001b[0mtrain_data\u001b[0m\u001b[1;33m.\u001b[0m\u001b[0mshape\u001b[0m\u001b[1;33m[\u001b[0m\u001b[1;36m0\u001b[0m\u001b[1;33m]\u001b[0m\u001b[1;33m,\u001b[0m\u001b[1;36m1\u001b[0m\u001b[1;33m)\u001b[0m\u001b[1;33m)\u001b[0m\u001b[1;33m\u001b[0m\u001b[1;33m\u001b[0m\u001b[0m\n\u001b[0m\u001b[0;32m     29\u001b[0m \u001b[0mtrain_X\u001b[0m \u001b[1;33m=\u001b[0m \u001b[0mnp\u001b[0m\u001b[1;33m.\u001b[0m\u001b[0mhstack\u001b[0m\u001b[1;33m(\u001b[0m\u001b[1;33m(\u001b[0m\u001b[0mones\u001b[0m\u001b[1;33m,\u001b[0m \u001b[0mtrain_data\u001b[0m\u001b[1;33m)\u001b[0m\u001b[1;33m)\u001b[0m\u001b[1;33m\u001b[0m\u001b[1;33m\u001b[0m\u001b[0m\n\u001b[0;32m     30\u001b[0m \u001b[1;33m\u001b[0m\u001b[0m\n",
      "\u001b[1;31mNameError\u001b[0m: name 'train_data' is not defined"
     ]
    }
   ],
   "source": [
    "def sigmoid(z):\n",
    "\n",
    "    return 1 / (1 + np.exp(-z))\n",
    "\n",
    "\n",
    "def cost_log(theta, X, y):\n",
    "\n",
    "    m = X.shape[0]\n",
    "    h = sigmoid(X @ theta.T)\n",
    "    J = -1/m * np.sum(y * np.log(h) + (1 - y) * np.log(1 - h))\n",
    "    return J\n",
    "\n",
    "\n",
    "def grad_log(theta, X, y):\n",
    "\n",
    "    m = X.shape[0]\n",
    "    h = sigmoid(X @ theta.T)\n",
    "    grad = 1/m * (h - y).T @ X\n",
    "    return grad\n",
    "\n",
    "\n",
    "# Set hyperparameters\n",
    "alpha = 10**(-9)\n",
    "num_iter = 3000\n",
    "num_classes = 10\n",
    "\n",
    "# Add a column of ones to train_X\n",
    "ones = np.ones((train_data.shape[0],1))\n",
    "train_X = np.hstack((ones, train_data))\n",
    "\n",
    "# Get the first 40000 labels from train_labels\n",
    "train_Y = train_labels[:40000]\n",
    "\n",
    "# Initialize parameter vector\n",
    "theta = np.zeros((num_classes, train_X.shape[1]))\n",
    "\n",
    "# Initialize list to store cost for each iteration\n",
    "costs = []\n",
    "\n",
    "# Gradient descent optimization\n",
    "for i in range(num_iter):\n",
    "    # Compute cost\n",
    "    J = cost_log(theta, train_X, train_Y)\n",
    "    costs.append(J)\n",
    "    \n",
    "    # Update parameters using gradient descent\n",
    "    grad = grad_log(theta, train_X, train_Y)\n",
    "    theta = theta - alpha * grad\n",
    "\n",
    "# Plot cost vs. iterations\n",
    "plt.plot(range(num_iter), costs)\n",
    "plt.xlabel('Iterations')\n",
    "plt.ylabel('Cost')\n",
    "plt.title('Cost vs. Iterations')\n",
    "plt.show()"
   ]
  },
  {
   "cell_type": "code",
   "execution_count": 4,
   "id": "16daa37d",
   "metadata": {},
   "outputs": [
    {
     "ename": "NameError",
     "evalue": "name 'train_data' is not defined",
     "output_type": "error",
     "traceback": [
      "\u001b[1;31m---------------------------------------------------------------------------\u001b[0m",
      "\u001b[1;31mNameError\u001b[0m                                 Traceback (most recent call last)",
      "\u001b[1;32m~\\AppData\\Local\\Temp\\ipykernel_17148\\3712110393.py\u001b[0m in \u001b[0;36m<module>\u001b[1;34m\u001b[0m\n\u001b[0;32m     27\u001b[0m \u001b[1;33m\u001b[0m\u001b[0m\n\u001b[0;32m     28\u001b[0m \u001b[1;33m\u001b[0m\u001b[0m\n\u001b[1;32m---> 29\u001b[1;33m \u001b[0mones\u001b[0m \u001b[1;33m=\u001b[0m \u001b[0mnp\u001b[0m\u001b[1;33m.\u001b[0m\u001b[0mones\u001b[0m\u001b[1;33m(\u001b[0m\u001b[1;33m(\u001b[0m\u001b[0mtrain_data\u001b[0m\u001b[1;33m.\u001b[0m\u001b[0mshape\u001b[0m\u001b[1;33m[\u001b[0m\u001b[1;36m0\u001b[0m\u001b[1;33m]\u001b[0m\u001b[1;33m,\u001b[0m\u001b[1;36m1\u001b[0m\u001b[1;33m)\u001b[0m\u001b[1;33m)\u001b[0m\u001b[1;33m\u001b[0m\u001b[1;33m\u001b[0m\u001b[0m\n\u001b[0m\u001b[0;32m     30\u001b[0m \u001b[0mX\u001b[0m \u001b[1;33m=\u001b[0m \u001b[0mnp\u001b[0m\u001b[1;33m.\u001b[0m\u001b[0mhstack\u001b[0m\u001b[1;33m(\u001b[0m\u001b[1;33m(\u001b[0m\u001b[0mones\u001b[0m\u001b[1;33m,\u001b[0m \u001b[0mtrain_data\u001b[0m\u001b[1;33m)\u001b[0m\u001b[1;33m)\u001b[0m\u001b[1;33m\u001b[0m\u001b[1;33m\u001b[0m\u001b[0m\n\u001b[0;32m     31\u001b[0m \u001b[1;33m\u001b[0m\u001b[0m\n",
      "\u001b[1;31mNameError\u001b[0m: name 'train_data' is not defined"
     ]
    }
   ],
   "source": [
    "def test_classifier(theta, X, y):\n",
    "    def squared_error(a,b):\n",
    "        return (a-b)**2\n",
    "    def conf_matrix(y, y_hat, num_classes):\n",
    "        m = np.zeros((num_classes, num_classes))\n",
    "        for i in range(len(y)):\n",
    "            m[int(y[i]), int(y_hat[i])] += 1.0\n",
    "\n",
    "        for i in range(m.shape[0]):\n",
    "            m[i,:] = 1./np.sum(m[i,:]) * m[i,:]\n",
    "        return m\n",
    "    def accuracy(y, y_hat):\n",
    "        acc = 0.0\n",
    "        for i in range(y.shape[0]):\n",
    "            if y[i] == y_hat[i]:\n",
    "                acc += 1.0\n",
    "        return 1./float(y.shape[0]) * acc\n",
    "\n",
    "# Get one hot vector estimates for the trained linear classifier\n",
    "    y_hat = sigmoid(theta @ X.T)\n",
    "\n",
    "#argmax over number of classes\n",
    "    y_labels = np.argmax(y.T, axis=0)\n",
    "#argmin over number of classes (smallest error is the chosen label)\n",
    "    y_hat_labels = np.argmin(squared_error(y_hat, np.ones(y_hat.shape)), axis=0)\n",
    "    return accuracy(y_labels, y_hat_labels), conf_matrix(y_labels, y_hat_labels, 10)\n",
    "\n",
    "\n",
    "ones = np.ones((train_data.shape[0],1))\n",
    "X = np.hstack((ones, train_data))\n",
    "\n",
    "# Use your trained theta and evaluate with training data\n",
    "train_acc, train_conf = test_classifier(theta, X, train_labels)\n",
    "\n",
    "ones = np.ones((test_data.shape[0],1))\n",
    "X = np.hstack((ones, test_data))\n",
    "\n",
    "# Use your trained theta and evaluate with training data\n",
    "test_acc, test_conf = test_classifier(theta, X, test_labels)\n",
    "\n",
    "np.set_printoptions(precision=3)\n",
    "np.set_printoptions(suppress=True)\n",
    "\n",
    "print(\"Training Set Accuracy: \" + str(train_acc))\n",
    "print(\"Training Set Confusion Matrix\")\n",
    "print(train_conf)\n",
    "\n",
    "print(\"Testing Set Accuracy: \" + str(test_acc))\n",
    "print(\"Testing Set Confusion Matrix\")\n",
    "print(test_conf)"
   ]
  },
  {
   "cell_type": "code",
   "execution_count": null,
   "id": "681fe49e",
   "metadata": {},
   "outputs": [],
   "source": []
  },
  {
   "cell_type": "code",
   "execution_count": null,
   "id": "db1e19e0",
   "metadata": {},
   "outputs": [],
   "source": []
  },
  {
   "cell_type": "code",
   "execution_count": null,
   "id": "9cf4b279",
   "metadata": {},
   "outputs": [],
   "source": []
  }
 ],
 "metadata": {
  "kernelspec": {
   "display_name": "Python 3 (ipykernel)",
   "language": "python",
   "name": "python3"
  },
  "language_info": {
   "codemirror_mode": {
    "name": "ipython",
    "version": 3
   },
   "file_extension": ".py",
   "mimetype": "text/x-python",
   "name": "python",
   "nbconvert_exporter": "python",
   "pygments_lexer": "ipython3",
   "version": "3.9.13"
  }
 },
 "nbformat": 4,
 "nbformat_minor": 5
}
